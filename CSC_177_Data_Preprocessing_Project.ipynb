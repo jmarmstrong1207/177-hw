{
 "cells": [
  {
   "cell_type": "markdown",
   "metadata": {},
   "source": [
    "# CSC 177 Data Preprocessing Project"
   ]
  },
  {
   "cell_type": "code",
   "execution_count": 57,
   "metadata": {},
   "outputs": [],
   "source": [
    "# Imports\n",
    "import pandas as pd\n",
    "import numpy as np\n",
    "from scipy import stats\n",
    "from sklearn.decomposition import PCA\n",
    "from sklearn.preprocessing import StandardScaler\n",
    "import matplotlib.pyplot as plt"
   ]
  },
  {
   "cell_type": "code",
   "execution_count": 58,
   "metadata": {},
   "outputs": [
    {
     "name": "stdout",
     "output_type": "stream",
     "text": [
      "Number of instances = 8392320\n",
      "Number of attributes = 27\n"
     ]
    },
    {
     "data": {
      "text/html": [
       "<div>\n",
       "<style scoped>\n",
       "    .dataframe tbody tr th:only-of-type {\n",
       "        vertical-align: middle;\n",
       "    }\n",
       "\n",
       "    .dataframe tbody tr th {\n",
       "        vertical-align: top;\n",
       "    }\n",
       "\n",
       "    .dataframe thead th {\n",
       "        text-align: right;\n",
       "    }\n",
       "</style>\n",
       "<table border=\"1\" class=\"dataframe\">\n",
       "  <thead>\n",
       "    <tr style=\"text-align: right;\">\n",
       "      <th></th>\n",
       "      <th>index</th>\n",
       "      <th>Data</th>\n",
       "      <th>Hora</th>\n",
       "      <th>PRECIPITAÇÃO TOTAL, HORÁRIO (mm)</th>\n",
       "      <th>PRESSAO ATMOSFERICA AO NIVEL DA ESTACAO, HORARIA (mB)</th>\n",
       "      <th>PRESSÃO ATMOSFERICA MAX.NA HORA ANT. (AUT) (mB)</th>\n",
       "      <th>PRESSÃO ATMOSFERICA MIN. NA HORA ANT. (AUT) (mB)</th>\n",
       "      <th>RADIACAO GLOBAL (Kj/m²)</th>\n",
       "      <th>TEMPERATURA DO AR - BULBO SECO, HORARIA (°C)</th>\n",
       "      <th>TEMPERATURA DO PONTO DE ORVALHO (°C)</th>\n",
       "      <th>...</th>\n",
       "      <th>VENTO, DIREÇÃO HORARIA (gr) (° (gr))</th>\n",
       "      <th>VENTO, RAJADA MAXIMA (m/s)</th>\n",
       "      <th>VENTO, VELOCIDADE HORARIA (m/s)</th>\n",
       "      <th>region</th>\n",
       "      <th>state</th>\n",
       "      <th>station</th>\n",
       "      <th>station_code</th>\n",
       "      <th>latitude</th>\n",
       "      <th>longitude</th>\n",
       "      <th>height</th>\n",
       "    </tr>\n",
       "  </thead>\n",
       "  <tbody>\n",
       "    <tr>\n",
       "      <th>0</th>\n",
       "      <td>0</td>\n",
       "      <td>2000-05-09</td>\n",
       "      <td>00:00</td>\n",
       "      <td>-9999.0</td>\n",
       "      <td>-9999.0</td>\n",
       "      <td>-9999.0</td>\n",
       "      <td>-9999.0</td>\n",
       "      <td>-9999</td>\n",
       "      <td>-9999.0</td>\n",
       "      <td>-9999.0</td>\n",
       "      <td>...</td>\n",
       "      <td>-9999</td>\n",
       "      <td>-9999.0</td>\n",
       "      <td>-9999.0</td>\n",
       "      <td>N</td>\n",
       "      <td>AM</td>\n",
       "      <td>MANAUS</td>\n",
       "      <td>A101</td>\n",
       "      <td>-3.103333</td>\n",
       "      <td>-60.016389</td>\n",
       "      <td>61.25</td>\n",
       "    </tr>\n",
       "    <tr>\n",
       "      <th>1</th>\n",
       "      <td>1</td>\n",
       "      <td>2000-05-09</td>\n",
       "      <td>01:00</td>\n",
       "      <td>-9999.0</td>\n",
       "      <td>-9999.0</td>\n",
       "      <td>-9999.0</td>\n",
       "      <td>-9999.0</td>\n",
       "      <td>-9999</td>\n",
       "      <td>-9999.0</td>\n",
       "      <td>-9999.0</td>\n",
       "      <td>...</td>\n",
       "      <td>-9999</td>\n",
       "      <td>-9999.0</td>\n",
       "      <td>-9999.0</td>\n",
       "      <td>N</td>\n",
       "      <td>AM</td>\n",
       "      <td>MANAUS</td>\n",
       "      <td>A101</td>\n",
       "      <td>-3.103333</td>\n",
       "      <td>-60.016389</td>\n",
       "      <td>61.25</td>\n",
       "    </tr>\n",
       "    <tr>\n",
       "      <th>2</th>\n",
       "      <td>2</td>\n",
       "      <td>2000-05-09</td>\n",
       "      <td>02:00</td>\n",
       "      <td>-9999.0</td>\n",
       "      <td>-9999.0</td>\n",
       "      <td>-9999.0</td>\n",
       "      <td>-9999.0</td>\n",
       "      <td>-9999</td>\n",
       "      <td>-9999.0</td>\n",
       "      <td>-9999.0</td>\n",
       "      <td>...</td>\n",
       "      <td>-9999</td>\n",
       "      <td>-9999.0</td>\n",
       "      <td>-9999.0</td>\n",
       "      <td>N</td>\n",
       "      <td>AM</td>\n",
       "      <td>MANAUS</td>\n",
       "      <td>A101</td>\n",
       "      <td>-3.103333</td>\n",
       "      <td>-60.016389</td>\n",
       "      <td>61.25</td>\n",
       "    </tr>\n",
       "    <tr>\n",
       "      <th>3</th>\n",
       "      <td>3</td>\n",
       "      <td>2000-05-09</td>\n",
       "      <td>03:00</td>\n",
       "      <td>-9999.0</td>\n",
       "      <td>-9999.0</td>\n",
       "      <td>-9999.0</td>\n",
       "      <td>-9999.0</td>\n",
       "      <td>-9999</td>\n",
       "      <td>-9999.0</td>\n",
       "      <td>-9999.0</td>\n",
       "      <td>...</td>\n",
       "      <td>-9999</td>\n",
       "      <td>-9999.0</td>\n",
       "      <td>-9999.0</td>\n",
       "      <td>N</td>\n",
       "      <td>AM</td>\n",
       "      <td>MANAUS</td>\n",
       "      <td>A101</td>\n",
       "      <td>-3.103333</td>\n",
       "      <td>-60.016389</td>\n",
       "      <td>61.25</td>\n",
       "    </tr>\n",
       "    <tr>\n",
       "      <th>4</th>\n",
       "      <td>4</td>\n",
       "      <td>2000-05-09</td>\n",
       "      <td>04:00</td>\n",
       "      <td>-9999.0</td>\n",
       "      <td>-9999.0</td>\n",
       "      <td>-9999.0</td>\n",
       "      <td>-9999.0</td>\n",
       "      <td>-9999</td>\n",
       "      <td>-9999.0</td>\n",
       "      <td>-9999.0</td>\n",
       "      <td>...</td>\n",
       "      <td>-9999</td>\n",
       "      <td>-9999.0</td>\n",
       "      <td>-9999.0</td>\n",
       "      <td>N</td>\n",
       "      <td>AM</td>\n",
       "      <td>MANAUS</td>\n",
       "      <td>A101</td>\n",
       "      <td>-3.103333</td>\n",
       "      <td>-60.016389</td>\n",
       "      <td>61.25</td>\n",
       "    </tr>\n",
       "  </tbody>\n",
       "</table>\n",
       "<p>5 rows × 27 columns</p>\n",
       "</div>"
      ],
      "text/plain": [
       "   index        Data   Hora  PRECIPITAÇÃO TOTAL, HORÁRIO (mm)  \\\n",
       "0      0  2000-05-09  00:00                           -9999.0   \n",
       "1      1  2000-05-09  01:00                           -9999.0   \n",
       "2      2  2000-05-09  02:00                           -9999.0   \n",
       "3      3  2000-05-09  03:00                           -9999.0   \n",
       "4      4  2000-05-09  04:00                           -9999.0   \n",
       "\n",
       "   PRESSAO ATMOSFERICA AO NIVEL DA ESTACAO, HORARIA (mB)  \\\n",
       "0                                            -9999.0       \n",
       "1                                            -9999.0       \n",
       "2                                            -9999.0       \n",
       "3                                            -9999.0       \n",
       "4                                            -9999.0       \n",
       "\n",
       "   PRESSÃO ATMOSFERICA MAX.NA HORA ANT. (AUT) (mB)  \\\n",
       "0                                          -9999.0   \n",
       "1                                          -9999.0   \n",
       "2                                          -9999.0   \n",
       "3                                          -9999.0   \n",
       "4                                          -9999.0   \n",
       "\n",
       "   PRESSÃO ATMOSFERICA MIN. NA HORA ANT. (AUT) (mB)  RADIACAO GLOBAL (Kj/m²)  \\\n",
       "0                                           -9999.0                    -9999   \n",
       "1                                           -9999.0                    -9999   \n",
       "2                                           -9999.0                    -9999   \n",
       "3                                           -9999.0                    -9999   \n",
       "4                                           -9999.0                    -9999   \n",
       "\n",
       "   TEMPERATURA DO AR - BULBO SECO, HORARIA (°C)  \\\n",
       "0                                       -9999.0   \n",
       "1                                       -9999.0   \n",
       "2                                       -9999.0   \n",
       "3                                       -9999.0   \n",
       "4                                       -9999.0   \n",
       "\n",
       "   TEMPERATURA DO PONTO DE ORVALHO (°C)  ...  \\\n",
       "0                               -9999.0  ...   \n",
       "1                               -9999.0  ...   \n",
       "2                               -9999.0  ...   \n",
       "3                               -9999.0  ...   \n",
       "4                               -9999.0  ...   \n",
       "\n",
       "   VENTO, DIREÇÃO HORARIA (gr) (° (gr))  VENTO, RAJADA MAXIMA (m/s)  \\\n",
       "0                                 -9999                     -9999.0   \n",
       "1                                 -9999                     -9999.0   \n",
       "2                                 -9999                     -9999.0   \n",
       "3                                 -9999                     -9999.0   \n",
       "4                                 -9999                     -9999.0   \n",
       "\n",
       "   VENTO, VELOCIDADE HORARIA (m/s)  region  state  station  station_code  \\\n",
       "0                          -9999.0       N     AM   MANAUS          A101   \n",
       "1                          -9999.0       N     AM   MANAUS          A101   \n",
       "2                          -9999.0       N     AM   MANAUS          A101   \n",
       "3                          -9999.0       N     AM   MANAUS          A101   \n",
       "4                          -9999.0       N     AM   MANAUS          A101   \n",
       "\n",
       "   latitude  longitude  height  \n",
       "0 -3.103333 -60.016389   61.25  \n",
       "1 -3.103333 -60.016389   61.25  \n",
       "2 -3.103333 -60.016389   61.25  \n",
       "3 -3.103333 -60.016389   61.25  \n",
       "4 -3.103333 -60.016389   61.25  \n",
       "\n",
       "[5 rows x 27 columns]"
      ]
     },
     "execution_count": 58,
     "metadata": {},
     "output_type": "execute_result"
    }
   ],
   "source": [
    "# Import data\n",
    "data = pd.read_csv(\"north.csv\")\n",
    "print(f\"Number of instances = {data.shape[0]}\")\n",
    "print(f\"Number of attributes = {data.shape[1]}\")\n",
    "data.head()"
   ]
  },
  {
   "cell_type": "markdown",
   "metadata": {},
   "source": [
    "### Translate the column names\n",
    "This is done first in order to make preprocessing easier (by knowing what the columns mean)."
   ]
  },
  {
   "cell_type": "code",
   "execution_count": 59,
   "metadata": {},
   "outputs": [
    {
     "name": "stdout",
     "output_type": "stream",
     "text": [
      "Before translating names: \n",
      "['Data', 'Hora', 'PRECIPITAÇÃO TOTAL, HORÁRIO (mm)', 'PRESSAO ATMOSFERICA AO NIVEL DA ESTACAO, HORARIA (mB)']\n",
      "After: \n",
      "['Date', 'Time', 'TOTAL RAINFALL, TIME (mm)', 'ATMOSPHERIC PRESSURE AT THE SEASON LEVEL, HOURLY (mB)']\n"
     ]
    },
    {
     "data": {
      "text/html": [
       "<div>\n",
       "<style scoped>\n",
       "    .dataframe tbody tr th:only-of-type {\n",
       "        vertical-align: middle;\n",
       "    }\n",
       "\n",
       "    .dataframe tbody tr th {\n",
       "        vertical-align: top;\n",
       "    }\n",
       "\n",
       "    .dataframe thead th {\n",
       "        text-align: right;\n",
       "    }\n",
       "</style>\n",
       "<table border=\"1\" class=\"dataframe\">\n",
       "  <thead>\n",
       "    <tr style=\"text-align: right;\">\n",
       "      <th></th>\n",
       "      <th>index</th>\n",
       "      <th>Date</th>\n",
       "      <th>Time</th>\n",
       "      <th>TOTAL RAINFALL, TIME (mm)</th>\n",
       "      <th>ATMOSPHERIC PRESSURE AT THE SEASON LEVEL, HOURLY (mB)</th>\n",
       "      <th>MAX ATMOSPHERIC PRESSURE AT THE PREVIOUS TIME. (AUT) (mB)</th>\n",
       "      <th>MIN. ATMOSPHERIC PRESSURE. AT THE PREVIOUS TIME. (AUT) (mB)</th>\n",
       "      <th>GLOBAL RADIATION (Kj/m²)</th>\n",
       "      <th>AIR TEMPERATURE - DRY BULB, TIME (°C)</th>\n",
       "      <th>DEW POINT TEMPERATURE (°C)</th>\n",
       "      <th>...</th>\n",
       "      <th>WIND, TIMED DIRECTION (gr) (° (gr))</th>\n",
       "      <th>WIND, MAXIMUM gust (m/s)</th>\n",
       "      <th>WIND, HOURLY SPEED (m/s)</th>\n",
       "      <th>region</th>\n",
       "      <th>state</th>\n",
       "      <th>station</th>\n",
       "      <th>station_code</th>\n",
       "      <th>latitude</th>\n",
       "      <th>longitude</th>\n",
       "      <th>height</th>\n",
       "    </tr>\n",
       "  </thead>\n",
       "  <tbody>\n",
       "    <tr>\n",
       "      <th>0</th>\n",
       "      <td>0</td>\n",
       "      <td>2000-05-09</td>\n",
       "      <td>00:00</td>\n",
       "      <td>-9999.0</td>\n",
       "      <td>-9999.0</td>\n",
       "      <td>-9999.0</td>\n",
       "      <td>-9999.0</td>\n",
       "      <td>-9999</td>\n",
       "      <td>-9999.0</td>\n",
       "      <td>-9999.0</td>\n",
       "      <td>...</td>\n",
       "      <td>-9999</td>\n",
       "      <td>-9999.0</td>\n",
       "      <td>-9999.0</td>\n",
       "      <td>N</td>\n",
       "      <td>AM</td>\n",
       "      <td>MANAUS</td>\n",
       "      <td>A101</td>\n",
       "      <td>-3.103333</td>\n",
       "      <td>-60.016389</td>\n",
       "      <td>61.25</td>\n",
       "    </tr>\n",
       "    <tr>\n",
       "      <th>1</th>\n",
       "      <td>1</td>\n",
       "      <td>2000-05-09</td>\n",
       "      <td>01:00</td>\n",
       "      <td>-9999.0</td>\n",
       "      <td>-9999.0</td>\n",
       "      <td>-9999.0</td>\n",
       "      <td>-9999.0</td>\n",
       "      <td>-9999</td>\n",
       "      <td>-9999.0</td>\n",
       "      <td>-9999.0</td>\n",
       "      <td>...</td>\n",
       "      <td>-9999</td>\n",
       "      <td>-9999.0</td>\n",
       "      <td>-9999.0</td>\n",
       "      <td>N</td>\n",
       "      <td>AM</td>\n",
       "      <td>MANAUS</td>\n",
       "      <td>A101</td>\n",
       "      <td>-3.103333</td>\n",
       "      <td>-60.016389</td>\n",
       "      <td>61.25</td>\n",
       "    </tr>\n",
       "    <tr>\n",
       "      <th>2</th>\n",
       "      <td>2</td>\n",
       "      <td>2000-05-09</td>\n",
       "      <td>02:00</td>\n",
       "      <td>-9999.0</td>\n",
       "      <td>-9999.0</td>\n",
       "      <td>-9999.0</td>\n",
       "      <td>-9999.0</td>\n",
       "      <td>-9999</td>\n",
       "      <td>-9999.0</td>\n",
       "      <td>-9999.0</td>\n",
       "      <td>...</td>\n",
       "      <td>-9999</td>\n",
       "      <td>-9999.0</td>\n",
       "      <td>-9999.0</td>\n",
       "      <td>N</td>\n",
       "      <td>AM</td>\n",
       "      <td>MANAUS</td>\n",
       "      <td>A101</td>\n",
       "      <td>-3.103333</td>\n",
       "      <td>-60.016389</td>\n",
       "      <td>61.25</td>\n",
       "    </tr>\n",
       "    <tr>\n",
       "      <th>3</th>\n",
       "      <td>3</td>\n",
       "      <td>2000-05-09</td>\n",
       "      <td>03:00</td>\n",
       "      <td>-9999.0</td>\n",
       "      <td>-9999.0</td>\n",
       "      <td>-9999.0</td>\n",
       "      <td>-9999.0</td>\n",
       "      <td>-9999</td>\n",
       "      <td>-9999.0</td>\n",
       "      <td>-9999.0</td>\n",
       "      <td>...</td>\n",
       "      <td>-9999</td>\n",
       "      <td>-9999.0</td>\n",
       "      <td>-9999.0</td>\n",
       "      <td>N</td>\n",
       "      <td>AM</td>\n",
       "      <td>MANAUS</td>\n",
       "      <td>A101</td>\n",
       "      <td>-3.103333</td>\n",
       "      <td>-60.016389</td>\n",
       "      <td>61.25</td>\n",
       "    </tr>\n",
       "    <tr>\n",
       "      <th>4</th>\n",
       "      <td>4</td>\n",
       "      <td>2000-05-09</td>\n",
       "      <td>04:00</td>\n",
       "      <td>-9999.0</td>\n",
       "      <td>-9999.0</td>\n",
       "      <td>-9999.0</td>\n",
       "      <td>-9999.0</td>\n",
       "      <td>-9999</td>\n",
       "      <td>-9999.0</td>\n",
       "      <td>-9999.0</td>\n",
       "      <td>...</td>\n",
       "      <td>-9999</td>\n",
       "      <td>-9999.0</td>\n",
       "      <td>-9999.0</td>\n",
       "      <td>N</td>\n",
       "      <td>AM</td>\n",
       "      <td>MANAUS</td>\n",
       "      <td>A101</td>\n",
       "      <td>-3.103333</td>\n",
       "      <td>-60.016389</td>\n",
       "      <td>61.25</td>\n",
       "    </tr>\n",
       "  </tbody>\n",
       "</table>\n",
       "<p>5 rows × 27 columns</p>\n",
       "</div>"
      ],
      "text/plain": [
       "   index        Date   Time  TOTAL RAINFALL, TIME (mm)  \\\n",
       "0      0  2000-05-09  00:00                    -9999.0   \n",
       "1      1  2000-05-09  01:00                    -9999.0   \n",
       "2      2  2000-05-09  02:00                    -9999.0   \n",
       "3      3  2000-05-09  03:00                    -9999.0   \n",
       "4      4  2000-05-09  04:00                    -9999.0   \n",
       "\n",
       "   ATMOSPHERIC PRESSURE AT THE SEASON LEVEL, HOURLY (mB)  \\\n",
       "0                                            -9999.0       \n",
       "1                                            -9999.0       \n",
       "2                                            -9999.0       \n",
       "3                                            -9999.0       \n",
       "4                                            -9999.0       \n",
       "\n",
       "   MAX ATMOSPHERIC PRESSURE AT THE PREVIOUS TIME. (AUT) (mB)  \\\n",
       "0                                            -9999.0           \n",
       "1                                            -9999.0           \n",
       "2                                            -9999.0           \n",
       "3                                            -9999.0           \n",
       "4                                            -9999.0           \n",
       "\n",
       "   MIN. ATMOSPHERIC PRESSURE. AT THE PREVIOUS TIME. (AUT) (mB)  \\\n",
       "0                                            -9999.0             \n",
       "1                                            -9999.0             \n",
       "2                                            -9999.0             \n",
       "3                                            -9999.0             \n",
       "4                                            -9999.0             \n",
       "\n",
       "   GLOBAL RADIATION (Kj/m²)  AIR TEMPERATURE - DRY BULB, TIME (°C)  \\\n",
       "0                     -9999                                -9999.0   \n",
       "1                     -9999                                -9999.0   \n",
       "2                     -9999                                -9999.0   \n",
       "3                     -9999                                -9999.0   \n",
       "4                     -9999                                -9999.0   \n",
       "\n",
       "   DEW POINT TEMPERATURE (°C)  ...  WIND, TIMED DIRECTION (gr) (° (gr))  \\\n",
       "0                     -9999.0  ...                                -9999   \n",
       "1                     -9999.0  ...                                -9999   \n",
       "2                     -9999.0  ...                                -9999   \n",
       "3                     -9999.0  ...                                -9999   \n",
       "4                     -9999.0  ...                                -9999   \n",
       "\n",
       "   WIND, MAXIMUM gust (m/s)  WIND, HOURLY SPEED (m/s)  region  state  station  \\\n",
       "0                   -9999.0                   -9999.0       N     AM   MANAUS   \n",
       "1                   -9999.0                   -9999.0       N     AM   MANAUS   \n",
       "2                   -9999.0                   -9999.0       N     AM   MANAUS   \n",
       "3                   -9999.0                   -9999.0       N     AM   MANAUS   \n",
       "4                   -9999.0                   -9999.0       N     AM   MANAUS   \n",
       "\n",
       "   station_code  latitude  longitude  height  \n",
       "0          A101 -3.103333 -60.016389   61.25  \n",
       "1          A101 -3.103333 -60.016389   61.25  \n",
       "2          A101 -3.103333 -60.016389   61.25  \n",
       "3          A101 -3.103333 -60.016389   61.25  \n",
       "4          A101 -3.103333 -60.016389   61.25  \n",
       "\n",
       "[5 rows x 27 columns]"
      ]
     },
     "execution_count": 59,
     "metadata": {},
     "output_type": "execute_result"
    }
   ],
   "source": [
    "print(f\"Before translating names: \\n{list(data.columns[1:5])}\",)\n",
    "data.columns = ['index', 'Date', 'Time', 'TOTAL RAINFALL, TIME (mm)',\n",
    "               'ATMOSPHERIC PRESSURE AT THE SEASON LEVEL, HOURLY (mB)',\n",
    "               'MAX ATMOSPHERIC PRESSURE AT THE PREVIOUS TIME. (AUT) (mB)',\n",
    "               'MIN. ATMOSPHERIC PRESSURE. AT THE PREVIOUS TIME. (AUT) (mB)',\n",
    "               'GLOBAL RADIATION (Kj/m²)',\n",
    "               'AIR TEMPERATURE - DRY BULB, TIME (°C)',\n",
    "               'DEW POINT TEMPERATURE (°C)',\n",
    "               'MAXIMUM TEMPERATURE AT THE PREVIOUS TIME. (AUT) (°C)',\n",
    "               'MINIMUM TEMPERATURE AT THE PREVIOUS TIME. (AUT) (°C)',\n",
    "               'TEMPERATURE DEW MAX. AT THE PREVIOUS TIME. (AUT) (°C)',\n",
    "               'DEW TEMPERATURE MIN. AT THE PREVIOUS TIME. (AUT) (°C)',\n",
    "               'REL. HUMIDITY MAX. AT THE PREVIOUS TIME. (AUT) (%)',\n",
    "               'REL. HUMIDITY MIN. AT THE PREVIOUS TIME. (AUT) (%)',\n",
    "               'AIR RELATIVE HUMIDITY, HOURLY (%)',\n",
    "               'WIND, TIMED DIRECTION (gr) (° (gr))', 'WIND, MAXIMUM gust (m/s)',\n",
    "               'WIND, HOURLY SPEED (m/s)', 'region', 'state', 'station',\n",
    "               'station_code', 'latitude', 'longitude', 'height'\n",
    "               ]\n",
    "print(f\"After: \\n{list(data.columns[1:5])}\")\n",
    "data.head()"
   ]
  },
  {
   "cell_type": "markdown",
   "metadata": {},
   "source": [
    "### Dropping Fields\n",
    "Then, drop fields that are of no value for our purpose."
   ]
  },
  {
   "cell_type": "code",
   "execution_count": 60,
   "metadata": {},
   "outputs": [
    {
     "name": "stdout",
     "output_type": "stream",
     "text": [
      "Before drop (first five): \n",
      "['index', 'Date', 'Time', 'TOTAL RAINFALL, TIME (mm)', 'ATMOSPHERIC PRESSURE AT THE SEASON LEVEL, HOURLY (mB)']\n",
      "After drop: \n",
      "['Date', 'TOTAL RAINFALL, TIME (mm)', 'DEW POINT TEMPERATURE (°C)', 'WIND, TIMED DIRECTION (gr) (° (gr))', 'WIND, MAXIMUM gust (m/s)', 'WIND, HOURLY SPEED (m/s)', 'state', 'height']\n"
     ]
    },
    {
     "data": {
      "text/html": [
       "<div>\n",
       "<style scoped>\n",
       "    .dataframe tbody tr th:only-of-type {\n",
       "        vertical-align: middle;\n",
       "    }\n",
       "\n",
       "    .dataframe tbody tr th {\n",
       "        vertical-align: top;\n",
       "    }\n",
       "\n",
       "    .dataframe thead th {\n",
       "        text-align: right;\n",
       "    }\n",
       "</style>\n",
       "<table border=\"1\" class=\"dataframe\">\n",
       "  <thead>\n",
       "    <tr style=\"text-align: right;\">\n",
       "      <th></th>\n",
       "      <th>Date</th>\n",
       "      <th>TOTAL RAINFALL, TIME (mm)</th>\n",
       "      <th>DEW POINT TEMPERATURE (°C)</th>\n",
       "      <th>WIND, TIMED DIRECTION (gr) (° (gr))</th>\n",
       "      <th>WIND, MAXIMUM gust (m/s)</th>\n",
       "      <th>WIND, HOURLY SPEED (m/s)</th>\n",
       "      <th>state</th>\n",
       "      <th>height</th>\n",
       "    </tr>\n",
       "  </thead>\n",
       "  <tbody>\n",
       "    <tr>\n",
       "      <th>0</th>\n",
       "      <td>2000-05-09</td>\n",
       "      <td>-9999.0</td>\n",
       "      <td>-9999.0</td>\n",
       "      <td>-9999</td>\n",
       "      <td>-9999.0</td>\n",
       "      <td>-9999.0</td>\n",
       "      <td>AM</td>\n",
       "      <td>61.25</td>\n",
       "    </tr>\n",
       "    <tr>\n",
       "      <th>1</th>\n",
       "      <td>2000-05-09</td>\n",
       "      <td>-9999.0</td>\n",
       "      <td>-9999.0</td>\n",
       "      <td>-9999</td>\n",
       "      <td>-9999.0</td>\n",
       "      <td>-9999.0</td>\n",
       "      <td>AM</td>\n",
       "      <td>61.25</td>\n",
       "    </tr>\n",
       "    <tr>\n",
       "      <th>2</th>\n",
       "      <td>2000-05-09</td>\n",
       "      <td>-9999.0</td>\n",
       "      <td>-9999.0</td>\n",
       "      <td>-9999</td>\n",
       "      <td>-9999.0</td>\n",
       "      <td>-9999.0</td>\n",
       "      <td>AM</td>\n",
       "      <td>61.25</td>\n",
       "    </tr>\n",
       "    <tr>\n",
       "      <th>3</th>\n",
       "      <td>2000-05-09</td>\n",
       "      <td>-9999.0</td>\n",
       "      <td>-9999.0</td>\n",
       "      <td>-9999</td>\n",
       "      <td>-9999.0</td>\n",
       "      <td>-9999.0</td>\n",
       "      <td>AM</td>\n",
       "      <td>61.25</td>\n",
       "    </tr>\n",
       "    <tr>\n",
       "      <th>4</th>\n",
       "      <td>2000-05-09</td>\n",
       "      <td>-9999.0</td>\n",
       "      <td>-9999.0</td>\n",
       "      <td>-9999</td>\n",
       "      <td>-9999.0</td>\n",
       "      <td>-9999.0</td>\n",
       "      <td>AM</td>\n",
       "      <td>61.25</td>\n",
       "    </tr>\n",
       "  </tbody>\n",
       "</table>\n",
       "</div>"
      ],
      "text/plain": [
       "         Date  TOTAL RAINFALL, TIME (mm)  DEW POINT TEMPERATURE (°C)  \\\n",
       "0  2000-05-09                    -9999.0                     -9999.0   \n",
       "1  2000-05-09                    -9999.0                     -9999.0   \n",
       "2  2000-05-09                    -9999.0                     -9999.0   \n",
       "3  2000-05-09                    -9999.0                     -9999.0   \n",
       "4  2000-05-09                    -9999.0                     -9999.0   \n",
       "\n",
       "   WIND, TIMED DIRECTION (gr) (° (gr))  WIND, MAXIMUM gust (m/s)  \\\n",
       "0                                -9999                   -9999.0   \n",
       "1                                -9999                   -9999.0   \n",
       "2                                -9999                   -9999.0   \n",
       "3                                -9999                   -9999.0   \n",
       "4                                -9999                   -9999.0   \n",
       "\n",
       "   WIND, HOURLY SPEED (m/s) state  height  \n",
       "0                   -9999.0    AM   61.25  \n",
       "1                   -9999.0    AM   61.25  \n",
       "2                   -9999.0    AM   61.25  \n",
       "3                   -9999.0    AM   61.25  \n",
       "4                   -9999.0    AM   61.25  "
      ]
     },
     "execution_count": 60,
     "metadata": {},
     "output_type": "execute_result"
    }
   ],
   "source": [
    "print(f\"Before drop (first five): \\n{list(data.columns[:5])}\")\n",
    "data.drop([\"index\",\n",
    "           \"Time\", \n",
    "           \"station\",\n",
    "           \"station_code\",\n",
    "           \"latitude\",\n",
    "           \"longitude\",\n",
    "           \"MAX ATMOSPHERIC PRESSURE AT THE PREVIOUS TIME. (AUT) (mB)\",\n",
    "           \"MIN. ATMOSPHERIC PRESSURE. AT THE PREVIOUS TIME. (AUT) (mB)\",\n",
    "           \"GLOBAL RADIATION (Kj/m²)\",\n",
    "           \"AIR TEMPERATURE - DRY BULB, TIME (°C)\",\n",
    "           \"MINIMUM TEMPERATURE AT THE PREVIOUS TIME. (AUT) (°C)\",\n",
    "           \"MAXIMUM TEMPERATURE AT THE PREVIOUS TIME. (AUT) (°C)\",\n",
    "           \"ATMOSPHERIC PRESSURE AT THE SEASON LEVEL, HOURLY (mB)\",\n",
    "           \"TEMPERATURE DEW MAX. AT THE PREVIOUS TIME. (AUT) (°C)\",\n",
    "           \"DEW TEMPERATURE MIN. AT THE PREVIOUS TIME. (AUT) (°C)\",\n",
    "           \"REL. HUMIDITY MAX. AT THE PREVIOUS TIME. (AUT) (%)\",\n",
    "           \"REL. HUMIDITY MIN. AT THE PREVIOUS TIME. (AUT) (%)\",\n",
    "           \"AIR RELATIVE HUMIDITY, HOURLY (%)\",\n",
    "           \"region\",\n",
    "          ], axis=1, inplace=True)\n",
    "print(f\"After drop: \\n{list(data.columns)}\")\n",
    "data.head()"
   ]
  },
  {
   "cell_type": "markdown",
   "metadata": {},
   "source": [
    "### Data Quality\n",
    "\n",
    "A large number of values in the dataset are set to -9999. Make sure those are removed first before doing any other preprocessing."
   ]
  },
  {
   "cell_type": "code",
   "execution_count": 61,
   "metadata": {},
   "outputs": [
    {
     "name": "stdout",
     "output_type": "stream",
     "text": [
      "Number of rows that before -9999: 8392320\n",
      "Number of rows that after removing -9999: 5903974\n"
     ]
    }
   ],
   "source": [
    "print(f\"Number of rows that before -9999: {data.shape[0]}\")\n",
    "data = data[(data[\"TOTAL RAINFALL, TIME (mm)\"] != -9999.0)]\n",
    "data = data[(data[\"DEW POINT TEMPERATURE (°C)\"] != -9999.0)]\n",
    "data = data[(data[\"WIND, TIMED DIRECTION (gr) (° (gr))\"] != -9999.0)]\n",
    "data = data[(data[\"WIND, MAXIMUM gust (m/s)\"] != -9999.0)]\n",
    "data = data[(data[\"WIND, HOURLY SPEED (m/s)\"] != -9999.0)]\n",
    "data = data[(data[\"height\"] != -9999.0)]\n",
    "print(f\"Number of rows that after removing -9999: {data.shape[0]}\")"
   ]
  },
  {
   "cell_type": "markdown",
   "metadata": {},
   "source": [
    "### Sampling\n",
    "\n",
    "This dataset is much bigger than what is needed for our purposes. Let's shrink this down early so we can improve speed."
   ]
  },
  {
   "cell_type": "code",
   "execution_count": 62,
   "metadata": {},
   "outputs": [
    {
     "name": "stdout",
     "output_type": "stream",
     "text": [
      "Number of rows before sampling: 5903974\n",
      "Number of rows after sampling: 59040\n"
     ]
    }
   ],
   "source": [
    "print(f\"Number of rows before sampling: {data.shape[0]}\")\n",
    "data = data.sample(frac=0.01, random_state=1)\n",
    "print(f\"Number of rows after sampling: {data.shape[0]}\")"
   ]
  },
  {
   "cell_type": "markdown",
   "metadata": {},
   "source": [
    "### Delete Duplicate Values\n",
    "\n",
    "Next, delete duplicate values to avoid processing false data."
   ]
  },
  {
   "cell_type": "code",
   "execution_count": 63,
   "metadata": {},
   "outputs": [
    {
     "name": "stdout",
     "output_type": "stream",
     "text": [
      "Number of duplicate rows = 0\n"
     ]
    }
   ],
   "source": [
    "dupes = data.duplicated()\n",
    "print(f\"Number of duplicate rows = {dupes.sum()}\")"
   ]
  },
  {
   "cell_type": "markdown",
   "metadata": {},
   "source": [
    "We don't actually have duplicate rows for our case, since there is a unique date field in each row. This is the following result if we set the first 500 rows to be duplicated"
   ]
  },
  {
   "cell_type": "code",
   "execution_count": 64,
   "metadata": {},
   "outputs": [
    {
     "name": "stdout",
     "output_type": "stream",
     "text": [
      "Number of rows before discarding duplicates = 59040\n",
      "Number of rows after discarding duplicates = 58540\n"
     ]
    }
   ],
   "source": [
    "dupes = data\n",
    "print(f\"Number of rows before discarding duplicates = {dupes.shape[0]}\")\n",
    "dupes.iloc[:500] = dupes.iloc[-1]\n",
    "dupes = dupes.drop_duplicates()\n",
    "print(f\"Number of rows after discarding duplicates = {dupes.shape[0]}\")"
   ]
  },
  {
   "cell_type": "markdown",
   "metadata": {},
   "source": [
    "### Replace Missing Values\n",
    "\n",
    "Do this now so we are not messing around with missing data, possibly getting false results. In our case, we have no missing values, so we are good here."
   ]
  },
  {
   "cell_type": "code",
   "execution_count": 65,
   "metadata": {},
   "outputs": [
    {
     "name": "stdout",
     "output_type": "stream",
     "text": [
      "Number of instances = 59040\n",
      "Number of attributes = 8\n",
      "Number of missing values:\n",
      "\tDate: 0\n",
      "\tTOTAL RAINFALL, TIME (mm): 0\n",
      "\tDEW POINT TEMPERATURE (°C): 0\n",
      "\tWIND, TIMED DIRECTION (gr) (° (gr)): 0\n",
      "\tWIND, MAXIMUM gust (m/s): 0\n",
      "\tWIND, HOURLY SPEED (m/s): 0\n",
      "\tstate: 0\n",
      "\theight: 0\n"
     ]
    }
   ],
   "source": [
    "data = data.replace('?',np.NaN)\n",
    "\n",
    "print('Number of instances = %d' % (data.shape[0]))\n",
    "print('Number of attributes = %d' % (data.shape[1]))\n",
    "\n",
    "print('Number of missing values:')\n",
    "for col in data.columns:\n",
    "    print('\\t%s: %d' % (col,data[col].isna().sum()))"
   ]
  },
  {
   "cell_type": "markdown",
   "metadata": {},
   "source": [
    "Since we don't have any missing values, let's see what it would be like if we did."
   ]
  },
  {
   "cell_type": "code",
   "execution_count": 66,
   "metadata": {},
   "outputs": [
    {
     "name": "stdout",
     "output_type": "stream",
     "text": [
      "Before missing data: \n",
      "\n",
      "7019044    22.0\n",
      "1922446    22.0\n",
      "5081799    22.0\n",
      "5653236    22.0\n",
      "633624     22.0\n",
      "3752018    22.0\n",
      "499902     22.0\n",
      "1904786    22.0\n",
      "5467555    22.0\n",
      "1888731    22.0\n",
      "2           NaN\n",
      "4           NaN\n",
      "Name: DEW POINT TEMPERATURE (°C), dtype: float64\n",
      "\n",
      "After replacing missing values: \n",
      "\n",
      "7019044    22.0\n",
      "1922446    22.0\n",
      "5081799    22.0\n",
      "5653236    22.0\n",
      "633624     22.0\n",
      "3752018    22.0\n",
      "499902     22.0\n",
      "1904786    22.0\n",
      "5467555    22.0\n",
      "1888731    22.0\n",
      "2          22.0\n",
      "4          22.0\n",
      "Name: DEW POINT TEMPERATURE (°C), dtype: float64\n"
     ]
    },
    {
     "name": "stderr",
     "output_type": "stream",
     "text": [
      "C:\\Users\\qh002\\AppData\\Local\\Temp\\ipykernel_16124\\4264843551.py:1: FutureWarning: The behavior of `series[i:j]` with an integer-dtype index is deprecated. In a future version, this will be treated as *label-based* indexing, consistent with e.g. `series[i]` lookups. To retain the old behavior, use `series.iloc[i:j]`. To get the future behavior, use `series.loc[i:j]`.\n",
      "  missing_data = data[\"DEW POINT TEMPERATURE (°C)\"][:10]\n"
     ]
    }
   ],
   "source": [
    "missing_data = data[\"DEW POINT TEMPERATURE (°C)\"][:10] \n",
    "\n",
    "# Insert \"missing\" data\n",
    "missing_data[2], missing_data[4] = \"?\", \"?\"        \n",
    "missing_data = missing_data.replace(\"?\", np.NaN)\n",
    "print(f\"Before missing data: \\n\\n{missing_data}\\n\")\n",
    "\n",
    "missing_data = missing_data.fillna(missing_data.median())\n",
    "\n",
    "print(f\"After replacing missing values: \\n\\n{missing_data}\")"
   ]
  },
  {
   "cell_type": "markdown",
   "metadata": {},
   "source": [
    "### Outliers\n",
    "\n",
    "Now that we're done cleaning up the messy data, let's move on to removing outliers, since those may alter our results in a negative manner."
   ]
  },
  {
   "cell_type": "code",
   "execution_count": 67,
   "metadata": {},
   "outputs": [
    {
     "data": {
      "text/plain": [
       "<AxesSubplot: >"
      ]
     },
     "execution_count": 67,
     "metadata": {},
     "output_type": "execute_result"
    },
    {
     "data": {
      "image/png": "[encoded data removed]",
      "text/plain": [
       "<Figure size 2000x1000 with 1 Axes>"
      ]
     },
     "metadata": {},
     "output_type": "display_data"
    }
   ],
   "source": [
    "%matplotlib inline\n",
    "\n",
    "data.boxplot(figsize=(20, 10))"
   ]
  },
  {
   "cell_type": "markdown",
   "metadata": {},
   "source": [
    "There are outliers in the first, second, fourth, fifth and sixth fields, but we'll ignore those in `TOTAL RAINFALL, TIME (mm)` since a majority of those are caused by a rainfall time of 0 (which is normal)"
   ]
  },
  {
   "cell_type": "code",
   "execution_count": 68,
   "metadata": {},
   "outputs": [
    {
     "name": "stdout",
     "output_type": "stream",
     "text": [
      "Number of rows before discarding outliers: 59040\n",
      "Number of rows before discarding outliers: 54921\n"
     ]
    }
   ],
   "source": [
    "print(f\"Number of rows before discarding outliers: {data.shape[0]}\")\n",
    "# Remove outliers that have a zscore > 3 or < -3\n",
    "data = data[(np.abs(stats.zscore(data[\"DEW POINT TEMPERATURE (°C)\"])) < 3)]\n",
    "data = data[(np.abs(stats.zscore(data[\"WIND, MAXIMUM gust (m/s)\"])) < 3)]\n",
    "data = data[(np.abs(stats.zscore(data[\"WIND, HOURLY SPEED (m/s)\"])) < 3)]\n",
    "data = data[(np.abs(stats.zscore(data[\"height\"])) < 3)]\n",
    "\n",
    "print(f\"Number of rows before discarding outliers: {data.shape[0]}\")"
   ]
  },
  {
   "cell_type": "markdown",
   "metadata": {},
   "source": [
    "### Discretization\n",
    "\n",
    "We can get a better idea of the data by using discretization. This is one of the last steps since we've filtered out most of the bad data."
   ]
  },
  {
   "cell_type": "code",
   "execution_count": 69,
   "metadata": {},
   "outputs": [
    {
     "data": {
      "text/plain": [
       "<AxesSubplot: >"
      ]
     },
     "execution_count": 69,
     "metadata": {},
     "output_type": "execute_result"
    },
    {
     "data": {
      "image/png": "[encoded data removed]",
      "text/plain": [
       "<Figure size 640x480 with 1 Axes>"
      ]
     },
     "metadata": {},
     "output_type": "display_data"
    }
   ],
   "source": [
    "data[\"WIND, MAXIMUM gust (m/s)\"].hist(legend=True) # defaults to 10 bins"
   ]
  },
  {
   "cell_type": "markdown",
   "metadata": {},
   "source": [
    "Also using methods such as `cut()` and `qcut()` help us to see the frequency of the data."
   ]
  },
  {
   "cell_type": "code",
   "execution_count": 70,
   "metadata": {},
   "outputs": [
    {
     "data": {
      "text/plain": [
       "(-0.0113, 2.825]    25839\n",
       "(2.825, 5.65]       19108\n",
       "(5.65, 8.475]        8181\n",
       "(8.475, 11.3]        1793\n",
       "Name: WIND, MAXIMUM gust (m/s), dtype: int64"
      ]
     },
     "execution_count": 70,
     "metadata": {},
     "output_type": "execute_result"
    }
   ],
   "source": [
    "bins = pd.cut(data[\"WIND, MAXIMUM gust (m/s)\"],4)\n",
    "bins.value_counts(sort=False)"
   ]
  },
  {
   "cell_type": "code",
   "execution_count": 71,
   "metadata": {
    "scrolled": true
   },
   "outputs": [
    {
     "data": {
      "text/plain": [
       "(-0.001, 1.6]    14549\n",
       "(1.6, 3.0]       13050\n",
       "(3.0, 4.9]       13683\n",
       "(4.9, 11.3]      13639\n",
       "Name: WIND, MAXIMUM gust (m/s), dtype: int64"
      ]
     },
     "execution_count": 71,
     "metadata": {},
     "output_type": "execute_result"
    }
   ],
   "source": [
    "bins = pd.qcut(data[\"WIND, MAXIMUM gust (m/s)\"],4)\n",
    "bins.value_counts(sort=False)"
   ]
  },
  {
   "cell_type": "markdown",
   "metadata": {},
   "source": [
    "### Principal Component Analysis\n",
    "\n",
    "This can be done the same time as discretization. Let's see if the attributes of wind and dew point temperature have a correlation in two different states (Amazonas and Pará)."
   ]
  },
  {
   "cell_type": "code",
   "execution_count": 72,
   "metadata": {},
   "outputs": [],
   "source": [
    "features = [\"WIND, MAXIMUM gust (m/s)\", \"DEW POINT TEMPERATURE (°C)\"]\n",
    "x = data.loc[:, features].values\n",
    "y = data.loc[:,['state']].values\n",
    "x = StandardScaler().fit_transform(x)"
   ]
  },
  {
   "cell_type": "code",
   "execution_count": 73,
   "metadata": {},
   "outputs": [
    {
     "data": {
      "text/html": [
       "<div>\n",
       "<style scoped>\n",
       "    .dataframe tbody tr th:only-of-type {\n",
       "        vertical-align: middle;\n",
       "    }\n",
       "\n",
       "    .dataframe tbody tr th {\n",
       "        vertical-align: top;\n",
       "    }\n",
       "\n",
       "    .dataframe thead th {\n",
       "        text-align: right;\n",
       "    }\n",
       "</style>\n",
       "<table border=\"1\" class=\"dataframe\">\n",
       "  <thead>\n",
       "    <tr style=\"text-align: right;\">\n",
       "      <th></th>\n",
       "      <th>pc1</th>\n",
       "      <th>pc2</th>\n",
       "    </tr>\n",
       "  </thead>\n",
       "  <tbody>\n",
       "    <tr>\n",
       "      <th>0</th>\n",
       "      <td>-0.019883</td>\n",
       "      <td>-0.138299</td>\n",
       "    </tr>\n",
       "    <tr>\n",
       "      <th>1</th>\n",
       "      <td>-0.019883</td>\n",
       "      <td>-0.138299</td>\n",
       "    </tr>\n",
       "    <tr>\n",
       "      <th>2</th>\n",
       "      <td>-0.019883</td>\n",
       "      <td>-0.138299</td>\n",
       "    </tr>\n",
       "    <tr>\n",
       "      <th>3</th>\n",
       "      <td>-0.019883</td>\n",
       "      <td>-0.138299</td>\n",
       "    </tr>\n",
       "    <tr>\n",
       "      <th>4</th>\n",
       "      <td>-0.019883</td>\n",
       "      <td>-0.138299</td>\n",
       "    </tr>\n",
       "  </tbody>\n",
       "</table>\n",
       "</div>"
      ],
      "text/plain": [
       "        pc1       pc2\n",
       "0 -0.019883 -0.138299\n",
       "1 -0.019883 -0.138299\n",
       "2 -0.019883 -0.138299\n",
       "3 -0.019883 -0.138299\n",
       "4 -0.019883 -0.138299"
      ]
     },
     "execution_count": 73,
     "metadata": {},
     "output_type": "execute_result"
    }
   ],
   "source": [
    "pca = PCA(n_components=2)\n",
    "principalComponents = pca.fit_transform(x)\n",
    "principalDf = pd.DataFrame(data = principalComponents\n",
    "             , columns = ['pc1', 'pc2'])\n",
    "principalDf.head()"
   ]
  },
  {
   "cell_type": "code",
   "execution_count": 74,
   "metadata": {},
   "outputs": [],
   "source": [
    "finalDf = pd.concat([principalDf, data[\"state\"]], axis = 1)"
   ]
  },
  {
   "cell_type": "code",
   "execution_count": 75,
   "metadata": {
    "scrolled": true
   },
   "outputs": [
    {
     "data": {
      "image/png": "[encoded data removed]",
      "text/plain": [
       "<Figure size 800x800 with 1 Axes>"
      ]
     },
     "metadata": {},
     "output_type": "display_data"
    }
   ],
   "source": [
    "fig = plt.figure(figsize = (8,8))\n",
    "ax = fig.add_subplot(1,1,1) \n",
    "ax.set_xlabel('Maximum Gust', fontsize = 15)\n",
    "ax.set_ylabel('Dew Point Temp.', fontsize = 15)\n",
    "ax.set_title('2 component PCA', fontsize = 20)\n",
    "\n",
    "targets = ['AM', 'PA']\n",
    "colors = ['r', 'g']\n",
    "for target, color in zip(targets,colors):\n",
    "    indicesToKeep = finalDf['state'] == target\n",
    "    ax.scatter(finalDf.loc[indicesToKeep, 'pc1']\n",
    "               , finalDf.loc[indicesToKeep, 'pc2']\n",
    "               , c = color\n",
    "               , s = 50)\n",
    "ax.legend(targets)\n",
    "ax.grid()"
   ]
  },
  {
   "cell_type": "markdown",
   "metadata": {},
   "source": [
    "### Aggregation\n",
    "\n",
    "This can be done the same time as the two before to help visualize the data."
   ]
  },
  {
   "cell_type": "code",
   "execution_count": 22,
   "metadata": {},
   "outputs": [
    {
     "data": {
      "text/plain": [
       "Text(0.5, 1.0, 'Monthly Rainfall (variance = 2511.4630)')"
      ]
     },
     "execution_count": 22,
     "metadata": {},
     "output_type": "execute_result"
    },
    {
     "data": {
      "image/png": "[encoded data removed]",
      "text/plain": [
       "<Figure size 1500x300 with 1 Axes>"
      ]
     },
     "metadata": {},
     "output_type": "display_data"
    }
   ],
   "source": [
    "daily = data\n",
    "daily.index = pd.to_datetime(daily['Date'])\n",
    "daily = daily['TOTAL RAINFALL, TIME (mm)']\n",
    "monthly = daily.groupby(pd.Grouper(freq='M')).sum()\n",
    "ax = monthly.plot(kind='line',figsize=(15,3))\n",
    "ax.set_title('Monthly Rainfall (variance = %.4f)' % (monthly.var()))"
   ]
  },
  {
   "cell_type": "code",
   "execution_count": 78,
   "metadata": {
    "scrolled": false
   },
   "outputs": [
    {
     "name": "stdout",
     "output_type": "stream",
     "text": [
      "No. of training examples: 43937\n",
      "No. of testing examples: 10984\n",
      "\n",
      "Mean of Training Data\n",
      "TOTAL RAINFALL, TIME (mm)                0.196063\n",
      "DEW POINT TEMPERATURE (°C)              21.733810\n",
      "WIND, TIMED DIRECTION (gr) (° (gr))    153.031318\n",
      "WIND, MAXIMUM gust (m/s)                 3.400125\n",
      "WIND, HOURLY SPEED (m/s)                 1.158668\n",
      "height                                 138.422061\n",
      "dtype: float64\n",
      "\n",
      "Mean of Testing Data\n",
      "TOTAL RAINFALL, TIME (mm)                0.187145\n",
      "DEW POINT TEMPERATURE (°C)              21.720530\n",
      "WIND, TIMED DIRECTION (gr) (° (gr))    152.678259\n",
      "WIND, MAXIMUM gust (m/s)                 3.403469\n",
      "WIND, HOURLY SPEED (m/s)                 1.163183\n",
      "height                                 139.474252\n",
      "dtype: float64\n",
      "\n",
      "Standard Deviation of Training Data\n",
      "TOTAL RAINFALL, TIME (mm)                1.546583\n",
      "DEW POINT TEMPERATURE (°C)               2.395816\n",
      "WIND, TIMED DIRECTION (gr) (° (gr))    103.806274\n",
      "WIND, MAXIMUM gust (m/s)                 2.382614\n",
      "WIND, HOURLY SPEED (m/s)                 1.063719\n",
      "height                                 106.672451\n",
      "dtype: float64\n",
      "\n",
      "Standard Deviation of Testing Data\n",
      "TOTAL RAINFALL, TIME (mm)                1.435661\n",
      "DEW POINT TEMPERATURE (°C)               2.434666\n",
      "WIND, TIMED DIRECTION (gr) (° (gr))    103.753514\n",
      "WIND, MAXIMUM gust (m/s)                 2.364982\n",
      "WIND, HOURLY SPEED (m/s)                 1.070060\n",
      "height                                 107.808494\n",
      "dtype: float64\n"
     ]
    },
    {
     "name": "stderr",
     "output_type": "stream",
     "text": [
      "C:\\Users\\qh002\\AppData\\Local\\Temp\\ipykernel_16124\\3089652724.py:6: FutureWarning: The default value of numeric_only in DataFrame.mean is deprecated. In a future version, it will default to False. In addition, specifying 'numeric_only=None' is deprecated. Select only valid columns or specify the value of numeric_only to silence this warning.\n",
      "  training_mean = training_data.mean()\n",
      "C:\\Users\\qh002\\AppData\\Local\\Temp\\ipykernel_16124\\3089652724.py:7: FutureWarning: The default value of numeric_only in DataFrame.mean is deprecated. In a future version, it will default to False. In addition, specifying 'numeric_only=None' is deprecated. Select only valid columns or specify the value of numeric_only to silence this warning.\n",
      "  testing_mean = testing_data.mean()\n",
      "C:\\Users\\qh002\\AppData\\Local\\Temp\\ipykernel_16124\\3089652724.py:9: FutureWarning: The default value of numeric_only in DataFrame.std is deprecated. In a future version, it will default to False. In addition, specifying 'numeric_only=None' is deprecated. Select only valid columns or specify the value of numeric_only to silence this warning.\n",
      "  training_sd = training_data.std()\n",
      "C:\\Users\\qh002\\AppData\\Local\\Temp\\ipykernel_16124\\3089652724.py:10: FutureWarning: The default value of numeric_only in DataFrame.std is deprecated. In a future version, it will default to False. In addition, specifying 'numeric_only=None' is deprecated. Select only valid columns or specify the value of numeric_only to silence this warning.\n",
      "  testing_sd = testing_data.std()\n"
     ]
    }
   ],
   "source": [
    "training_data = data.sample(frac=0.8, random_state=25)\n",
    "testing_data = data.drop(training_data.index)\n",
    "print(f\"No. of training examples: {training_data.shape[0]}\")\n",
    "print(f\"No. of testing examples: {testing_data.shape[0]}\")\n",
    "\n",
    "training_mean = training_data.mean()\n",
    "testing_mean = testing_data.mean()\n",
    "\n",
    "training_sd = training_data.std()\n",
    "testing_sd = testing_data.std()\n",
    "\n",
    "print(f\"\\nMean of Training Data\")\n",
    "print(training_mean)\n",
    "print(f\"\\nMean of Testing Data\")\n",
    "print(testing_mean)\n",
    "print(f\"\\nStandard Deviation of Training Data\")\n",
    "print(training_sd)\n",
    "print(f\"\\nStandard Deviation of Testing Data\")\n",
    "print(testing_sd)"
   ]
  }
 ],
 "metadata": {
  "kernelspec": {
   "display_name": "Python 3 (ipykernel)",
   "language": "python",
   "name": "python3"
  },
  "language_info": {
   "codemirror_mode": {
    "name": "ipython",
    "version": 3
   },
   "file_extension": ".py",
   "mimetype": "text/x-python",
   "name": "python",
   "nbconvert_exporter": "python",
   "pygments_lexer": "ipython3",
   "version": "3.9.16"
  },
  "vscode": {
   "interpreter": {
    "hash": "b0fa6594d8f4cbf19f97940f81e996739fb7646882a419484c72d19e05852a7e"
   }
  }
 },
 "nbformat": 4,
 "nbformat_minor": 2
}
